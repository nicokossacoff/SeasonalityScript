{
 "cells": [
  {
   "cell_type": "markdown",
   "metadata": {},
   "source": [
    "## Import libraries"
   ]
  },
  {
   "cell_type": "code",
   "execution_count": 1,
   "metadata": {},
   "outputs": [],
   "source": [
    "import json\n",
    "import requests\n",
    "import pandas as pd\n",
    "import numpy as np\n",
    "from datetime import datetime, timedelta\n",
    "from SeasonalityScript import SeasonalityScript, Info"
   ]
  },
  {
   "cell_type": "markdown",
   "metadata": {},
   "source": [
    "### Check available countries and their country code"
   ]
  },
  {
   "cell_type": "code",
   "execution_count": null,
   "metadata": {},
   "outputs": [],
   "source": [
    "info = Info().get_info()"
   ]
  },
  {
   "cell_type": "markdown",
   "metadata": {},
   "source": [
    "## Create object"
   ]
  },
  {
   "cell_type": "markdown",
   "metadata": {},
   "source": [
    "- If you're working with the W/E format instead of W/C, you will have to set the optional parameter called ```week_ending=``` to ```True```\n",
    "- If you're working on a country in the UK, you'll have to set the optional parameter called ```uk_country=``` to select one of the countries in the table below:\n",
    "\n",
    "| Country | Country Code |\n",
    "|---------|--------------|\n",
    "| England | ```ENG``` |\n",
    "| Scotland | ```SCT``` |\n",
    "| Wales | ```WLS``` |\n",
    "| Northern Ireland | ```NIR``` |"
   ]
  },
  {
   "cell_type": "code",
   "execution_count": 5,
   "metadata": {},
   "outputs": [
    {
     "name": "stdout",
     "output_type": "stream",
     "text": [
      "Creating object...\n",
      "SeasonalityScript successfully created\n"
     ]
    }
   ],
   "source": [
    "data = SeasonalityScript(\"IE\", \"01/01/2018\", \"30/06/2023\", \"SAT\")"
   ]
  },
  {
   "cell_type": "markdown",
   "metadata": {},
   "source": [
    "## Run function"
   ]
  },
  {
   "cell_type": "code",
   "execution_count": 6,
   "metadata": {},
   "outputs": [
    {
     "name": "stdout",
     "output_type": "stream",
     "text": [
      "Building DataFrame...\n",
      "DataFrame built succesfully\n",
      "Getting holidays for Ireland...\n",
      "Holidays for IE successfully added to DataFrame\n",
      "Building weekly dummies...\n",
      "Weekly dummies successfully built\n",
      "Building monthly dummies...\n",
      "Monthly dummies successfully built\n",
      "Joining all dataframes...\n",
      "DataFrames successfully joined\n",
      "Preparing CSV file...\n",
      "CSV file successfully written...\n"
     ]
    },
    {
     "data": {
      "text/plain": [
       "True"
      ]
     },
     "execution_count": 6,
     "metadata": {},
     "output_type": "execute_result"
    }
   ],
   "source": [
    "data.get_csv(r\"C:\\Users\\nicolas.kossacoff\\Documents\\Python\\Seasonality\")"
   ]
  }
 ],
 "metadata": {
  "kernelspec": {
   "display_name": "Python 3",
   "language": "python",
   "name": "python3"
  },
  "language_info": {
   "codemirror_mode": {
    "name": "ipython",
    "version": 3
   },
   "file_extension": ".py",
   "mimetype": "text/x-python",
   "name": "python",
   "nbconvert_exporter": "python",
   "pygments_lexer": "ipython3",
   "version": "3.11.5"
  },
  "orig_nbformat": 4
 },
 "nbformat": 4,
 "nbformat_minor": 2
}
