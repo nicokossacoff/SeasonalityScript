{
 "cells": [
  {
   "cell_type": "markdown",
   "metadata": {},
   "source": [
    "# Import libraries"
   ]
  },
  {
   "cell_type": "code",
   "execution_count": 1,
   "metadata": {},
   "outputs": [],
   "source": [
    "# import json\n",
    "# import requests\n",
    "# import pandas as pd\n",
    "# import numpy as np\n",
    "# from datetime import datetime, timedelta\n",
    "from SeasonalityScript import SeasonalityScript, Info"
   ]
  },
  {
   "cell_type": "markdown",
   "metadata": {},
   "source": [
    "# Initialize SeasonalityScript"
   ]
  },
  {
   "cell_type": "markdown",
   "metadata": {},
   "source": [
    "- If you're working with the W/E format instead of W/C, you will have to set the optional parameter *week_ending=* to ```True```\n",
    "- If you're working on a country in the UK, you'll have to set the optional parameter *uk_country=* to select one of the countries in the table below:\n",
    "\n",
    "| Country | Country Code |\n",
    "|---------|--------------|\n",
    "| England | ```ENG``` |\n",
    "| Scotland | ```SCT``` |\n",
    "| Wales | ```WLS``` |\n",
    "| Northern Ireland | ```NIR``` |"
   ]
  },
  {
   "cell_type": "code",
   "execution_count": 2,
   "metadata": {},
   "outputs": [
    {
     "name": "stdout",
     "output_type": "stream",
     "text": [
      "Creating object...\n",
      "SeasonalityScript successfully created\n"
     ]
    }
   ],
   "source": [
    "data = SeasonalityScript(\"US\", \"01/01/2018\", \"31/08/2023\", \"MON\")"
   ]
  },
  {
   "cell_type": "markdown",
   "metadata": {},
   "source": [
    "### Check available countries and their country code"
   ]
  },
  {
   "cell_type": "code",
   "execution_count": null,
   "metadata": {},
   "outputs": [],
   "source": [
    "available_countries = Info().get_info()"
   ]
  },
  {
   "cell_type": "markdown",
   "metadata": {},
   "source": [
    "## Run function"
   ]
  },
  {
   "cell_type": "code",
   "execution_count": 3,
   "metadata": {},
   "outputs": [
    {
     "name": "stdout",
     "output_type": "stream",
     "text": [
      "Building DataFrame...\n",
      "DataFrame built succesfully\n",
      "Getting holidays for United States...\n",
      "Holidays for United States successfully added to DataFrame\n",
      "Building weekly dummies...\n",
      "Weekly dummies successfully built\n",
      "Building monthly dummies...\n",
      "Monthly dummies successfully built\n",
      "Joining all dataframes...\n",
      "DataFrames successfully joined\n",
      "Preparing CSV file...\n",
      "CSV file successfully written...\n"
     ]
    },
    {
     "data": {
      "text/plain": [
       "True"
      ]
     },
     "execution_count": 3,
     "metadata": {},
     "output_type": "execute_result"
    }
   ],
   "source": [
    "data.get_csv(r\"/Users/nicolaskossacoff/Library/CloudStorage/OneDrive-UniversidadTorcuatoDiTella/Courses/GIT-REPOS/SeasonalityScript/\")"
   ]
  },
  {
   "cell_type": "code",
   "execution_count": null,
   "metadata": {},
   "outputs": [],
   "source": []
  }
 ],
 "metadata": {
  "kernelspec": {
   "display_name": "Python 3",
   "language": "python",
   "name": "python3"
  },
  "language_info": {
   "codemirror_mode": {
    "name": "ipython",
    "version": 3
   },
   "file_extension": ".py",
   "mimetype": "text/x-python",
   "name": "python",
   "nbconvert_exporter": "python",
   "pygments_lexer": "ipython3",
   "version": "3.11.0"
  },
  "orig_nbformat": 4
 },
 "nbformat": 4,
 "nbformat_minor": 2
}
