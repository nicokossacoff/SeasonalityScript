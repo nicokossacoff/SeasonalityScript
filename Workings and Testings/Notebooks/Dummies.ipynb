{
 "cells": [
  {
   "cell_type": "code",
   "execution_count": null,
   "metadata": {},
   "outputs": [],
   "source": [
    "import json\n",
    "import requests\n",
    "import pandas as pd\n",
    "import numpy as np\n",
    "from datetime import datetime, timedelta"
   ]
  },
  {
   "cell_type": "code",
   "execution_count": null,
   "metadata": {},
   "outputs": [],
   "source": [
    "years = []\n",
    "holidays = {}\n",
    "\n",
    "country_id = \"UK\"\n",
    "country = \"ENG\"\n",
    "wc = \"MON\"\n",
    "start_date = datetime.strptime(r\"01/01/2018\", r\"%d/%m/%Y\").strftime(r\"%d/%m/%Y\")\n",
    "end_date = datetime.strptime(r\"31/08/2023\", r\"%d/%m/%Y\").strftime(r\"%d/%m/%Y\")\n",
    "\n",
    "start_year = int(datetime.strptime(start_date, r\"%d/%m/%Y\").strftime(r\"%Y\"))\n",
    "end_year = int(datetime.strptime(end_date, r\"%d/%m/%Y\").strftime(r\"%Y\"))\n",
    "\n",
    "while start_year <= end_year:\n",
    "    years.append(start_year)\n",
    "    start_year += 1"
   ]
  },
  {
   "cell_type": "markdown",
   "metadata": {},
   "source": [
    "## Helper functions"
   ]
  },
  {
   "cell_type": "code",
   "execution_count": null,
   "metadata": {},
   "outputs": [],
   "source": [
    "def date_convertion(wc, date):\n",
    "    if wc == \"MON\":\n",
    "        if date.weekday() != 0:\n",
    "            date = date - timedelta(date.weekday())\n",
    "            return date.strftime(r\"%d/%m/%Y\")\n",
    "        else:\n",
    "            return date.strftime(r\"%d/%m/%Y\")\n",
    "    elif wc == \"TUE\":\n",
    "        if date.weekday() != 1:\n",
    "            date = date - timedelta(date.weekday() - 1)\n",
    "            return date.strftime(r\"%d/%m/%Y\")\n",
    "        else:\n",
    "            return date.strftime(r\"%d/%m/%Y\")\n",
    "    elif wc == \"WED\":\n",
    "        if date.weekday() != 2:\n",
    "            date = date - timedelta(date.weekday() - 2)\n",
    "            return date.strftime(r\"%d/%m/%Y\")\n",
    "        else:\n",
    "            return date.strftime(r\"%d/%m/%Y\")\n",
    "    elif wc == \"THU\":\n",
    "        if date.weekday() != 3:\n",
    "            date = date - timedelta(date.weekday() - 3)\n",
    "            return date.strftime(r\"%d/%m/%Y\")\n",
    "        else:\n",
    "            return date.strftime(r\"%d/%m/%Y\")\n",
    "    elif wc == \"FRI\":\n",
    "        if date.weekday() != 4:\n",
    "            date = date - timedelta(date.weekday() - 4)\n",
    "            return date.strftime(r\"%d/%m/%Y\")\n",
    "        else:\n",
    "            return date.strftime(r\"%d/%m/%Y\")\n",
    "    elif wc == \"SAT\":\n",
    "        if date.weekday() != 5:\n",
    "            date = date - timedelta(date.weekday() - 5)\n",
    "            return date.strftime(r\"%d/%m/%Y\")\n",
    "        else:\n",
    "            return date.strftime(r\"%d/%m/%Y\")\n",
    "    elif wc == \"SUN\":\n",
    "        if date.weekday() != 6:\n",
    "            date = date - timedelta(date.weekday() - 6)\n",
    "            return date.strftime(r\"%d/%m/%Y\")\n",
    "        else:\n",
    "            return date.strftime(r\"%d/%m/%Y\")"
   ]
  },
  {
   "cell_type": "markdown",
   "metadata": {},
   "source": [
    "## Weekly"
   ]
  },
  {
   "cell_type": "markdown",
   "metadata": {},
   "source": [
    "### Creates the DataFrame"
   ]
  },
  {
   "cell_type": "code",
   "execution_count": null,
   "metadata": {},
   "outputs": [],
   "source": [
    "dates = pd.date_range(start= start_date, end= end_date, freq= \"D\")\n",
    "df = pd.DataFrame({\"date\": dates})\n",
    "\n",
    "df.head()"
   ]
  },
  {
   "cell_type": "markdown",
   "metadata": {},
   "source": [
    "### Adds the 'Week #' column"
   ]
  },
  {
   "cell_type": "code",
   "execution_count": null,
   "metadata": {},
   "outputs": [],
   "source": [
    "week_numbers = []\n",
    "\n",
    "for (index, row) in df.iterrows():\n",
    "    week_numbers.append(row[\"date\"].isocalendar().week)\n",
    "df[\"Week #\"] = week_numbers\n",
    "\n",
    "df.head()"
   ]
  },
  {
   "cell_type": "markdown",
   "metadata": {},
   "source": [
    "### Converts all dates into W/C monday"
   ]
  },
  {
   "cell_type": "code",
   "execution_count": null,
   "metadata": {},
   "outputs": [],
   "source": [
    "logic = {\"Week #\": \"min\"}\n",
    "df = df.resample(\"W-MON\", label= \"left\", closed= \"left\", on= \"date\").apply(logic)\n",
    "df.head()"
   ]
  },
  {
   "cell_type": "markdown",
   "metadata": {},
   "source": [
    "### Creates the weekly dummies and resets the index"
   ]
  },
  {
   "cell_type": "code",
   "execution_count": null,
   "metadata": {},
   "outputs": [],
   "source": [
    "weeks = {}\n",
    "for i in range(1, 54):\n",
    "    week = f\"Week {i}\"\n",
    "    if week not in weeks: \n",
    "        weeks[week] = []\n",
    "\n",
    "    for (index, row) in df.iterrows():\n",
    "        if row[\"Week #\"] == i:\n",
    "            weeks[week].append(1)\n",
    "        else:\n",
    "            weeks[week].append(0)\n",
    "\n",
    "    df[f\"Dummy {week}\"] = weeks[week]\n",
    "\n",
    "df.reset_index(inplace= True)\n",
    "df.head()"
   ]
  },
  {
   "cell_type": "markdown",
   "metadata": {},
   "source": [
    "### Changes the dates formats and creates the CSV file"
   ]
  },
  {
   "cell_type": "code",
   "execution_count": null,
   "metadata": {},
   "outputs": [],
   "source": [
    "df[\"date\"] = df[\"date\"].dt.strftime(r\"%d/%m/%Y\")\n",
    "df.head()"
   ]
  },
  {
   "cell_type": "code",
   "execution_count": null,
   "metadata": {},
   "outputs": [],
   "source": [
    "df.to_csv(r\"C:\\Users\\nicolas.kossacoff\\Documents\\Python\\Seasonality\\Weekly Dummies (testing).csv\", index= False)"
   ]
  },
  {
   "cell_type": "markdown",
   "metadata": {},
   "source": [
    "## Month"
   ]
  },
  {
   "cell_type": "code",
   "execution_count": null,
   "metadata": {},
   "outputs": [],
   "source": [
    "dates = pd.date_range(start= start_date, end= end_date, freq= \"D\")\n",
    "df1 = pd.DataFrame({\"Date\": dates})\n",
    "\n",
    "month_numbers = []\n",
    "for (index, row) in df1.iterrows():\n",
    "    month_numbers.append(row[\"Date\"].month)\n",
    "\n",
    "df1[\"Month #\"] = month_numbers\n",
    "df1.head()"
   ]
  },
  {
   "cell_type": "code",
   "execution_count": null,
   "metadata": {},
   "outputs": [],
   "source": [
    "months = {}\n",
    "months_name = [\"January\", \"February\", \"March\", \"April\", \"May\", \"June\", \n",
    "          \"July\", \"August\", \"September\", \"October\", \"November\", \"December\"]\n",
    "\n",
    "for i in range(1,13):\n",
    "    month = months_name[i - 1]\n",
    "\n",
    "    if month not in months: \n",
    "        months[month] = []\n",
    "\n",
    "    for (index, row) in df1.iterrows():\n",
    "        if row[\"Month #\"] == i:\n",
    "            months[month].append(1)\n",
    "        else:\n",
    "            months[month].append(0)\n",
    "\n",
    "    df1[f\"Dummy {month}\"] = months[month]\n",
    "\n",
    "df1.head()"
   ]
  },
  {
   "cell_type": "code",
   "execution_count": null,
   "metadata": {},
   "outputs": [],
   "source": [
    "df1 = df1.drop(columns= [\"Month #\"])\n",
    "df1.head()"
   ]
  },
  {
   "cell_type": "code",
   "execution_count": null,
   "metadata": {},
   "outputs": [],
   "source": [
    "#logic = {\"Dummy January\": \"min\"}\n",
    "df1 = df1.resample(f\"W-MON\", label= \"left\", closed= \"left\", on= \"Date\").sum()\n",
    "df1.head()"
   ]
  },
  {
   "cell_type": "code",
   "execution_count": null,
   "metadata": {},
   "outputs": [],
   "source": [
    "for column in df1.columns:\n",
    "    df1[column] = (df1[column] > 3).astype(int)\n",
    "\n",
    "df1.head()"
   ]
  },
  {
   "cell_type": "code",
   "execution_count": null,
   "metadata": {},
   "outputs": [],
   "source": [
    "df1.reset_index(inplace= True)\n",
    "df1[\"Date\"] = df1[\"Date\"].dt.strftime(r\"%d/%m/%Y\")\n",
    "df1.head()"
   ]
  },
  {
   "cell_type": "code",
   "execution_count": null,
   "metadata": {},
   "outputs": [],
   "source": [
    "df1.rename(columns= {\"Date\": \"date\"}, inplace= True)\n",
    "df1.head()"
   ]
  },
  {
   "cell_type": "code",
   "execution_count": null,
   "metadata": {},
   "outputs": [],
   "source": [
    "df1.to_csv(r\"C:\\Users\\nicolas.kossacoff\\Documents\\Python\\Seasonality\\Workings and Testings\\CSVs\\Monthly Dummies (testings).csv\", index= False)"
   ]
  },
  {
   "cell_type": "markdown",
   "metadata": {},
   "source": [
    "## Joining DataFrame"
   ]
  },
  {
   "cell_type": "code",
   "execution_count": null,
   "metadata": {},
   "outputs": [],
   "source": [
    "df = df.merge(df1, how= \"inner\", on= \"date\")\n",
    "df.head()"
   ]
  },
  {
   "cell_type": "code",
   "execution_count": null,
   "metadata": {},
   "outputs": [],
   "source": [
    "df.to_csv(r\"C:\\Users\\nicolas.kossacoff\\Documents\\Python\\Seasonality\\Workings and Testings\\CSVs\\Joined DataFrames (testing).csv\", index= False)"
   ]
  }
 ],
 "metadata": {
  "kernelspec": {
   "display_name": "Python 3",
   "language": "python",
   "name": "python3"
  },
  "language_info": {
   "codemirror_mode": {
    "name": "ipython",
    "version": 3
   },
   "file_extension": ".py",
   "mimetype": "text/x-python",
   "name": "python",
   "nbconvert_exporter": "python",
   "pygments_lexer": "ipython3",
   "version": "3.11.5"
  },
  "orig_nbformat": 4
 },
 "nbformat": 4,
 "nbformat_minor": 2
}
