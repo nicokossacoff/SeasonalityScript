{
 "cells": [
  {
   "cell_type": "code",
   "execution_count": 1,
   "metadata": {},
   "outputs": [],
   "source": [
    "import json\n",
    "import requests\n",
    "import pandas as pd\n",
    "import numpy as np\n",
    "from datetime import datetime, timedelta"
   ]
  },
  {
   "cell_type": "markdown",
   "metadata": {},
   "source": [
    "### Setup"
   ]
  },
  {
   "cell_type": "code",
   "execution_count": 3,
   "metadata": {},
   "outputs": [],
   "source": [
    "years = []\n",
    "holidays = {}\n",
    "week_numbers = []\n",
    "week_dummies = {}\n",
    "month_numbers = []\n",
    "month_dummies = {}\n",
    "\n",
    "country_id = \"GB\"\n",
    "week_ending = False\n",
    "day = \"SAT\"\n",
    "uk_country = \"NIR\"\n",
    "country = country_id + \"-\" + uk_country\n",
    "start_date = datetime.strptime(\"01/01/2018\", r\"%d/%m/%Y\").strftime(r\"%Y-%m-%d\")\n",
    "end_date = datetime.strptime(\"30/06/2023\", r\"%d/%m/%Y\").strftime(r\"%Y-%m-%d\")\n",
    "\n",
    "start_year = int(datetime.strptime(start_date, r\"%Y-%m-%d\").strftime(r\"%Y\"))\n",
    "end_year = int(datetime.strptime(end_date, r\"%Y-%m-%d\").strftime(r\"%Y\"))\n",
    "\n",
    "while start_year <= end_year:\n",
    "    years.append(start_year)\n",
    "    start_year += 1"
   ]
  },
  {
   "cell_type": "code",
   "execution_count": 5,
   "metadata": {},
   "outputs": [
    {
     "name": "stdout",
     "output_type": "stream",
     "text": [
      "Lá Caille  -  New Year's Day\n",
      "Lá Fhéile Bríde  -  Saint Brigid's Day\n",
      "Lá Fhéile Pádraig  -  Saint Patrick's Day\n",
      "Aoine an Chéasta  -  Good Friday\n",
      "Luan Cásca  -  Easter Monday\n",
      "Lá Bealtaine  -  May Day\n",
      "Lá Saoire i mí an Mheithimh  -  June Holiday\n",
      "Lá Saoire i mí Lúnasa  -  August Holiday\n",
      "Lá Saoire i mí Dheireadh Fómhair  -  October Holiday\n",
      "Lá Nollag  -  Christmas Day\n",
      "Lá Fhéile Stiofáin  -  St. Stephen's Day\n"
     ]
    }
   ],
   "source": [
    "uri = f\"https://date.nager.at/api/v3/PublicHolidays/2023/IE\"\n",
    "connection = requests.get(uri)\n",
    "response = json.loads(connection.content)\n",
    "for item in response:\n",
    "    print(item[\"localName\"], \" - \",  item[\"name\"])"
   ]
  },
  {
   "cell_type": "markdown",
   "metadata": {},
   "source": [
    "## Code"
   ]
  },
  {
   "cell_type": "code",
   "execution_count": null,
   "metadata": {},
   "outputs": [],
   "source": [
    "dates = pd.date_range(start= start_date, end= end_date, freq= \"D\")\n",
    "df = pd.DataFrame({\"date\": dates})\n",
    "df.head()"
   ]
  },
  {
   "cell_type": "code",
   "execution_count": null,
   "metadata": {},
   "outputs": [],
   "source": [
    "for year in years:\n",
    "    uri = f\"https://date.nager.at/api/v3/PublicHolidays/{year}/{country_id}\"\n",
    "    connection = requests.get(uri)\n",
    "    response = json.loads(connection.content)\n",
    "    \n",
    "    # Parses the API's response\n",
    "    for item in response:\n",
    "        try:\n",
    "            if item[\"types\"][0] == \"Public\" and country in item[\"counties\"]:\n",
    "                # Extracts the name of the bank holiday and the date\n",
    "                holiday_name = item[\"localName\"]\n",
    "                holiday_date = pd.to_datetime(item[\"date\"], format= r\"%Y-%m-%d\")\n",
    "                \n",
    "                # Creates the (key, value) pair\n",
    "                if holiday_name not in holidays:\n",
    "                    holidays[holiday_name] = list()\n",
    "                    holidays[holiday_name].append(holiday_date)\n",
    "                else:\n",
    "                    holidays[holiday_name].append(holiday_date)\n",
    "        except:\n",
    "            if item[\"types\"][0] == \"Public\" and item[\"counties\"] == None:\n",
    "                # Extracts the name of the bank holiday and the date\n",
    "                holiday_name = item[\"localName\"]\n",
    "                holiday_date = pd.to_datetime(item[\"date\"], format= r\"%Y-%m-%d\")\n",
    "                \n",
    "                # Creates the (key, value) pair\n",
    "                if holiday_name not in holidays:\n",
    "                    holidays[holiday_name] = list()\n",
    "                    holidays[holiday_name].append(holiday_date)\n",
    "                else:\n",
    "                    holidays[holiday_name].append(holiday_date)\n",
    "    \n",
    "for holiday in holidays:\n",
    "    new_column = list()\n",
    "\n",
    "    # Creates a list containing 1s and 0s\n",
    "    for (index, row) in df.iterrows():\n",
    "        if row[\"date\"] in holidays[holiday][:]:\n",
    "            new_column.append(1)\n",
    "        else:\n",
    "            new_column.append(0)\n",
    "\n",
    "    # Creates the bank holiday column\n",
    "    df[holiday + \" BH\"] = new_column\n",
    "\n",
    "df = df.resample(f\"W-{day}\", label= \"right\", on= \"date\").sum()\n",
    "\n",
    "df.reset_index(inplace= True)\n",
    "df[\"date\"] = df[\"date\"].dt.strftime(r\"%d/%m/%Y\")\n",
    "\n",
    "# Solves punctuation issues\n",
    "df = df.rename(columns= {'''Queen’s Platinum Jubilee BH''': '''Queen's Platinum Jubilee BH''', '''Queen’s State Funeral BH''': '''Queen's State Funeral BH''',\n",
    "                        \"Early May Bank Holiday BH\": \"Early May BH\", \"Spring Bank Holiday BH\": \"Spring BH\", \"Coronation Bank Holiday BH\": \"Coronation BH\"})\n",
    "\n",
    "df.head()"
   ]
  },
  {
   "cell_type": "code",
   "execution_count": null,
   "metadata": {},
   "outputs": [],
   "source": [
    "df[\"account\"] = \"national\"\n",
    "columns = df.columns.tolist()\n",
    "df.head()"
   ]
  },
  {
   "cell_type": "code",
   "execution_count": null,
   "metadata": {},
   "outputs": [],
   "source": [
    "columns = columns[-1:] + columns[:-1]\n",
    "df = df[columns]\n",
    "df.head()"
   ]
  }
 ],
 "metadata": {
  "kernelspec": {
   "display_name": "Python 3",
   "language": "python",
   "name": "python3"
  },
  "language_info": {
   "codemirror_mode": {
    "name": "ipython",
    "version": 3
   },
   "file_extension": ".py",
   "mimetype": "text/x-python",
   "name": "python",
   "nbconvert_exporter": "python",
   "pygments_lexer": "ipython3",
   "version": "3.11.5"
  },
  "orig_nbformat": 4
 },
 "nbformat": 4,
 "nbformat_minor": 2
}
